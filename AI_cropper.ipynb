{
  "nbformat": 4,
  "nbformat_minor": 0,
  "metadata": {
    "colab": {
      "provenance": []
    },
    "kernelspec": {
      "name": "python3",
      "display_name": "Python 3"
    },
    "language_info": {
      "name": "python"
    }
  },
  "cells": [
    {
      "cell_type": "code",
      "source": [
        "# STEP 1: Imports\n",
        "import pandas as pd\n",
        "from sklearn.model_selection import train_test_split\n",
        "from sklearn.preprocessing import LabelEncoder\n",
        "from tensorflow.keras.models import Sequential\n",
        "from tensorflow.keras.layers import Dense\n",
        "import numpy as np\n",
        "\n",
        "# STEP 2: Load the Dataset\n",
        "df = pd.read_csv('/content/Crop_recommendation.csv')\n",
        "\n",
        "# STEP 3: Encode labels\n",
        "le = LabelEncoder()\n",
        "df['label'] = le.fit_transform(df['label'])\n",
        "\n",
        "X = df.drop('label', axis=1)\n",
        "y = df['label']\n",
        "\n",
        "# STEP 4: Split and Train\n",
        "X_train, X_test, y_train, y_test = train_test_split(X, y, test_size=0.2, random_state=42)\n",
        "\n",
        "ANN = Sequential([\n",
        "    Dense(64, activation='relu', input_shape=(X.shape[1],)),\n",
        "    Dense(64, activation='relu'),\n",
        "    Dense(len(le.classes_), activation='softmax')\n",
        "])\n",
        "\n",
        "ANN.compile(optimizer='adam', loss='sparse_categorical_crossentropy', metrics=['accuracy'])\n",
        "ANN.fit(X_train, y_train, epochs=50, validation_data=(X_test, y_test))\n"
      ],
      "metadata": {
        "colab": {
          "base_uri": "https://localhost:8080/"
        },
        "id": "Aovz693qf-G-",
        "outputId": "1379052a-a114-4304-f316-6e64904a7ef4"
      },
      "execution_count": 2,
      "outputs": [
        {
          "output_type": "stream",
          "name": "stderr",
          "text": [
            "/usr/local/lib/python3.11/dist-packages/keras/src/layers/core/dense.py:87: UserWarning: Do not pass an `input_shape`/`input_dim` argument to a layer. When using Sequential models, prefer using an `Input(shape)` object as the first layer in the model instead.\n",
            "  super().__init__(activity_regularizer=activity_regularizer, **kwargs)\n"
          ]
        },
        {
          "output_type": "stream",
          "name": "stdout",
          "text": [
            "Epoch 1/50\n",
            "\u001b[1m55/55\u001b[0m \u001b[32m━━━━━━━━━━━━━━━━━━━━\u001b[0m\u001b[37m\u001b[0m \u001b[1m2s\u001b[0m 10ms/step - accuracy: 0.0683 - loss: 16.7940 - val_accuracy: 0.4727 - val_loss: 1.6979\n",
            "Epoch 2/50\n",
            "\u001b[1m55/55\u001b[0m \u001b[32m━━━━━━━━━━━━━━━━━━━━\u001b[0m\u001b[37m\u001b[0m \u001b[1m1s\u001b[0m 5ms/step - accuracy: 0.5439 - loss: 1.3564 - val_accuracy: 0.7455 - val_loss: 0.7895\n",
            "Epoch 3/50\n",
            "\u001b[1m55/55\u001b[0m \u001b[32m━━━━━━━━━━━━━━━━━━━━\u001b[0m\u001b[37m\u001b[0m \u001b[1m1s\u001b[0m 5ms/step - accuracy: 0.8062 - loss: 0.6169 - val_accuracy: 0.7909 - val_loss: 0.5813\n",
            "Epoch 4/50\n",
            "\u001b[1m55/55\u001b[0m \u001b[32m━━━━━━━━━━━━━━━━━━━━\u001b[0m\u001b[37m\u001b[0m \u001b[1m0s\u001b[0m 7ms/step - accuracy: 0.8648 - loss: 0.4434 - val_accuracy: 0.8568 - val_loss: 0.4331\n",
            "Epoch 5/50\n",
            "\u001b[1m55/55\u001b[0m \u001b[32m━━━━━━━━━━━━━━━━━━━━\u001b[0m\u001b[37m\u001b[0m \u001b[1m1s\u001b[0m 9ms/step - accuracy: 0.8849 - loss: 0.3462 - val_accuracy: 0.8932 - val_loss: 0.3094\n",
            "Epoch 6/50\n",
            "\u001b[1m55/55\u001b[0m \u001b[32m━━━━━━━━━━━━━━━━━━━━\u001b[0m\u001b[37m\u001b[0m \u001b[1m1s\u001b[0m 8ms/step - accuracy: 0.9216 - loss: 0.2608 - val_accuracy: 0.8864 - val_loss: 0.2893\n",
            "Epoch 7/50\n",
            "\u001b[1m55/55\u001b[0m \u001b[32m━━━━━━━━━━━━━━━━━━━━\u001b[0m\u001b[37m\u001b[0m \u001b[1m1s\u001b[0m 9ms/step - accuracy: 0.9149 - loss: 0.2408 - val_accuracy: 0.9023 - val_loss: 0.2578\n",
            "Epoch 8/50\n",
            "\u001b[1m55/55\u001b[0m \u001b[32m━━━━━━━━━━━━━━━━━━━━\u001b[0m\u001b[37m\u001b[0m \u001b[1m1s\u001b[0m 8ms/step - accuracy: 0.9296 - loss: 0.2181 - val_accuracy: 0.9159 - val_loss: 0.2220\n",
            "Epoch 9/50\n",
            "\u001b[1m55/55\u001b[0m \u001b[32m━━━━━━━━━━━━━━━━━━━━\u001b[0m\u001b[37m\u001b[0m \u001b[1m0s\u001b[0m 6ms/step - accuracy: 0.9379 - loss: 0.1986 - val_accuracy: 0.8977 - val_loss: 0.3279\n",
            "Epoch 10/50\n",
            "\u001b[1m55/55\u001b[0m \u001b[32m━━━━━━━━━━━━━━━━━━━━\u001b[0m\u001b[37m\u001b[0m \u001b[1m1s\u001b[0m 5ms/step - accuracy: 0.9455 - loss: 0.1956 - val_accuracy: 0.9318 - val_loss: 0.2054\n",
            "Epoch 11/50\n",
            "\u001b[1m55/55\u001b[0m \u001b[32m━━━━━━━━━━━━━━━━━━━━\u001b[0m\u001b[37m\u001b[0m \u001b[1m0s\u001b[0m 5ms/step - accuracy: 0.9525 - loss: 0.1647 - val_accuracy: 0.9250 - val_loss: 0.2117\n",
            "Epoch 12/50\n",
            "\u001b[1m55/55\u001b[0m \u001b[32m━━━━━━━━━━━━━━━━━━━━\u001b[0m\u001b[37m\u001b[0m \u001b[1m0s\u001b[0m 5ms/step - accuracy: 0.9302 - loss: 0.1787 - val_accuracy: 0.9000 - val_loss: 0.2678\n",
            "Epoch 13/50\n",
            "\u001b[1m55/55\u001b[0m \u001b[32m━━━━━━━━━━━━━━━━━━━━\u001b[0m\u001b[37m\u001b[0m \u001b[1m0s\u001b[0m 5ms/step - accuracy: 0.9360 - loss: 0.1803 - val_accuracy: 0.9386 - val_loss: 0.1808\n",
            "Epoch 14/50\n",
            "\u001b[1m55/55\u001b[0m \u001b[32m━━━━━━━━━━━━━━━━━━━━\u001b[0m\u001b[37m\u001b[0m \u001b[1m0s\u001b[0m 5ms/step - accuracy: 0.9528 - loss: 0.1564 - val_accuracy: 0.9136 - val_loss: 0.2275\n",
            "Epoch 15/50\n",
            "\u001b[1m55/55\u001b[0m \u001b[32m━━━━━━━━━━━━━━━━━━━━\u001b[0m\u001b[37m\u001b[0m \u001b[1m0s\u001b[0m 6ms/step - accuracy: 0.9480 - loss: 0.1537 - val_accuracy: 0.9409 - val_loss: 0.1737\n",
            "Epoch 16/50\n",
            "\u001b[1m55/55\u001b[0m \u001b[32m━━━━━━━━━━━━━━━━━━━━\u001b[0m\u001b[37m\u001b[0m \u001b[1m1s\u001b[0m 5ms/step - accuracy: 0.9507 - loss: 0.1529 - val_accuracy: 0.9205 - val_loss: 0.1941\n",
            "Epoch 17/50\n",
            "\u001b[1m55/55\u001b[0m \u001b[32m━━━━━━━━━━━━━━━━━━━━\u001b[0m\u001b[37m\u001b[0m \u001b[1m0s\u001b[0m 5ms/step - accuracy: 0.9563 - loss: 0.1349 - val_accuracy: 0.9523 - val_loss: 0.1638\n",
            "Epoch 18/50\n",
            "\u001b[1m55/55\u001b[0m \u001b[32m━━━━━━━━━━━━━━━━━━━━\u001b[0m\u001b[37m\u001b[0m \u001b[1m0s\u001b[0m 5ms/step - accuracy: 0.9557 - loss: 0.1341 - val_accuracy: 0.9250 - val_loss: 0.1946\n",
            "Epoch 19/50\n",
            "\u001b[1m55/55\u001b[0m \u001b[32m━━━━━━━━━━━━━━━━━━━━\u001b[0m\u001b[37m\u001b[0m \u001b[1m1s\u001b[0m 4ms/step - accuracy: 0.9493 - loss: 0.1266 - val_accuracy: 0.9295 - val_loss: 0.2048\n",
            "Epoch 20/50\n",
            "\u001b[1m55/55\u001b[0m \u001b[32m━━━━━━━━━━━━━━━━━━━━\u001b[0m\u001b[37m\u001b[0m \u001b[1m0s\u001b[0m 7ms/step - accuracy: 0.9501 - loss: 0.1653 - val_accuracy: 0.9136 - val_loss: 0.2370\n",
            "Epoch 21/50\n",
            "\u001b[1m55/55\u001b[0m \u001b[32m━━━━━━━━━━━━━━━━━━━━\u001b[0m\u001b[37m\u001b[0m \u001b[1m1s\u001b[0m 5ms/step - accuracy: 0.9384 - loss: 0.1723 - val_accuracy: 0.9182 - val_loss: 0.2101\n",
            "Epoch 22/50\n",
            "\u001b[1m55/55\u001b[0m \u001b[32m━━━━━━━━━━━━━━━━━━━━\u001b[0m\u001b[37m\u001b[0m \u001b[1m0s\u001b[0m 5ms/step - accuracy: 0.9546 - loss: 0.1346 - val_accuracy: 0.9364 - val_loss: 0.1619\n",
            "Epoch 23/50\n",
            "\u001b[1m55/55\u001b[0m \u001b[32m━━━━━━━━━━━━━━━━━━━━\u001b[0m\u001b[37m\u001b[0m \u001b[1m0s\u001b[0m 5ms/step - accuracy: 0.9697 - loss: 0.1038 - val_accuracy: 0.9295 - val_loss: 0.1719\n",
            "Epoch 24/50\n",
            "\u001b[1m55/55\u001b[0m \u001b[32m━━━━━━━━━━━━━━━━━━━━\u001b[0m\u001b[37m\u001b[0m \u001b[1m0s\u001b[0m 5ms/step - accuracy: 0.9622 - loss: 0.1226 - val_accuracy: 0.9318 - val_loss: 0.1976\n",
            "Epoch 25/50\n",
            "\u001b[1m55/55\u001b[0m \u001b[32m━━━━━━━━━━━━━━━━━━━━\u001b[0m\u001b[37m\u001b[0m \u001b[1m0s\u001b[0m 5ms/step - accuracy: 0.9555 - loss: 0.1256 - val_accuracy: 0.9500 - val_loss: 0.1507\n",
            "Epoch 26/50\n",
            "\u001b[1m55/55\u001b[0m \u001b[32m━━━━━━━━━━━━━━━━━━━━\u001b[0m\u001b[37m\u001b[0m \u001b[1m1s\u001b[0m 5ms/step - accuracy: 0.9651 - loss: 0.1051 - val_accuracy: 0.9227 - val_loss: 0.1779\n",
            "Epoch 27/50\n",
            "\u001b[1m55/55\u001b[0m \u001b[32m━━━━━━━━━━━━━━━━━━━━\u001b[0m\u001b[37m\u001b[0m \u001b[1m0s\u001b[0m 5ms/step - accuracy: 0.9608 - loss: 0.1108 - val_accuracy: 0.9227 - val_loss: 0.2250\n",
            "Epoch 28/50\n",
            "\u001b[1m55/55\u001b[0m \u001b[32m━━━━━━━━━━━━━━━━━━━━\u001b[0m\u001b[37m\u001b[0m \u001b[1m0s\u001b[0m 7ms/step - accuracy: 0.9579 - loss: 0.1107 - val_accuracy: 0.9250 - val_loss: 0.2125\n",
            "Epoch 29/50\n",
            "\u001b[1m55/55\u001b[0m \u001b[32m━━━━━━━━━━━━━━━━━━━━\u001b[0m\u001b[37m\u001b[0m \u001b[1m0s\u001b[0m 5ms/step - accuracy: 0.9455 - loss: 0.1370 - val_accuracy: 0.9205 - val_loss: 0.2961\n",
            "Epoch 30/50\n",
            "\u001b[1m55/55\u001b[0m \u001b[32m━━━━━━━━━━━━━━━━━━━━\u001b[0m\u001b[37m\u001b[0m \u001b[1m0s\u001b[0m 5ms/step - accuracy: 0.9710 - loss: 0.0951 - val_accuracy: 0.9409 - val_loss: 0.1489\n",
            "Epoch 31/50\n",
            "\u001b[1m55/55\u001b[0m \u001b[32m━━━━━━━━━━━━━━━━━━━━\u001b[0m\u001b[37m\u001b[0m \u001b[1m0s\u001b[0m 5ms/step - accuracy: 0.9549 - loss: 0.1482 - val_accuracy: 0.9386 - val_loss: 0.1778\n",
            "Epoch 32/50\n",
            "\u001b[1m55/55\u001b[0m \u001b[32m━━━━━━━━━━━━━━━━━━━━\u001b[0m\u001b[37m\u001b[0m \u001b[1m1s\u001b[0m 5ms/step - accuracy: 0.9475 - loss: 0.1493 - val_accuracy: 0.9432 - val_loss: 0.1509\n",
            "Epoch 33/50\n",
            "\u001b[1m55/55\u001b[0m \u001b[32m━━━━━━━━━━━━━━━━━━━━\u001b[0m\u001b[37m\u001b[0m \u001b[1m0s\u001b[0m 5ms/step - accuracy: 0.9566 - loss: 0.1145 - val_accuracy: 0.9477 - val_loss: 0.1514\n",
            "Epoch 34/50\n",
            "\u001b[1m55/55\u001b[0m \u001b[32m━━━━━━━━━━━━━━━━━━━━\u001b[0m\u001b[37m\u001b[0m \u001b[1m0s\u001b[0m 5ms/step - accuracy: 0.9611 - loss: 0.1175 - val_accuracy: 0.9295 - val_loss: 0.2281\n",
            "Epoch 35/50\n",
            "\u001b[1m55/55\u001b[0m \u001b[32m━━━━━━━━━━━━━━━━━━━━\u001b[0m\u001b[37m\u001b[0m \u001b[1m0s\u001b[0m 5ms/step - accuracy: 0.9450 - loss: 0.1713 - val_accuracy: 0.9341 - val_loss: 0.1762\n",
            "Epoch 36/50\n",
            "\u001b[1m55/55\u001b[0m \u001b[32m━━━━━━━━━━━━━━━━━━━━\u001b[0m\u001b[37m\u001b[0m \u001b[1m1s\u001b[0m 8ms/step - accuracy: 0.9468 - loss: 0.1748 - val_accuracy: 0.9091 - val_loss: 0.3585\n",
            "Epoch 37/50\n",
            "\u001b[1m55/55\u001b[0m \u001b[32m━━━━━━━━━━━━━━━━━━━━\u001b[0m\u001b[37m\u001b[0m \u001b[1m1s\u001b[0m 9ms/step - accuracy: 0.9597 - loss: 0.1278 - val_accuracy: 0.9386 - val_loss: 0.1502\n",
            "Epoch 38/50\n",
            "\u001b[1m55/55\u001b[0m \u001b[32m━━━━━━━━━━━━━━━━━━━━\u001b[0m\u001b[37m\u001b[0m \u001b[1m1s\u001b[0m 9ms/step - accuracy: 0.9649 - loss: 0.1249 - val_accuracy: 0.9227 - val_loss: 0.3980\n",
            "Epoch 39/50\n",
            "\u001b[1m55/55\u001b[0m \u001b[32m━━━━━━━━━━━━━━━━━━━━\u001b[0m\u001b[37m\u001b[0m \u001b[1m1s\u001b[0m 9ms/step - accuracy: 0.9522 - loss: 0.1656 - val_accuracy: 0.9477 - val_loss: 0.1492\n",
            "Epoch 40/50\n",
            "\u001b[1m55/55\u001b[0m \u001b[32m━━━━━━━━━━━━━━━━━━━━\u001b[0m\u001b[37m\u001b[0m \u001b[1m0s\u001b[0m 7ms/step - accuracy: 0.9699 - loss: 0.0923 - val_accuracy: 0.9136 - val_loss: 0.2664\n",
            "Epoch 41/50\n",
            "\u001b[1m55/55\u001b[0m \u001b[32m━━━━━━━━━━━━━━━━━━━━\u001b[0m\u001b[37m\u001b[0m \u001b[1m0s\u001b[0m 5ms/step - accuracy: 0.9624 - loss: 0.1389 - val_accuracy: 0.9500 - val_loss: 0.1299\n",
            "Epoch 42/50\n",
            "\u001b[1m55/55\u001b[0m \u001b[32m━━━━━━━━━━━━━━━━━━━━\u001b[0m\u001b[37m\u001b[0m \u001b[1m0s\u001b[0m 5ms/step - accuracy: 0.9720 - loss: 0.0888 - val_accuracy: 0.9477 - val_loss: 0.1221\n",
            "Epoch 43/50\n",
            "\u001b[1m55/55\u001b[0m \u001b[32m━━━━━━━━━━━━━━━━━━━━\u001b[0m\u001b[37m\u001b[0m \u001b[1m0s\u001b[0m 5ms/step - accuracy: 0.9572 - loss: 0.1042 - val_accuracy: 0.9455 - val_loss: 0.1877\n",
            "Epoch 44/50\n",
            "\u001b[1m55/55\u001b[0m \u001b[32m━━━━━━━━━━━━━━━━━━━━\u001b[0m\u001b[37m\u001b[0m \u001b[1m0s\u001b[0m 5ms/step - accuracy: 0.9674 - loss: 0.1038 - val_accuracy: 0.9114 - val_loss: 0.2748\n",
            "Epoch 45/50\n",
            "\u001b[1m55/55\u001b[0m \u001b[32m━━━━━━━━━━━━━━━━━━━━\u001b[0m\u001b[37m\u001b[0m \u001b[1m0s\u001b[0m 5ms/step - accuracy: 0.9510 - loss: 0.1554 - val_accuracy: 0.9523 - val_loss: 0.1173\n",
            "Epoch 46/50\n",
            "\u001b[1m55/55\u001b[0m \u001b[32m━━━━━━━━━━━━━━━━━━━━\u001b[0m\u001b[37m\u001b[0m \u001b[1m0s\u001b[0m 5ms/step - accuracy: 0.9731 - loss: 0.0885 - val_accuracy: 0.9523 - val_loss: 0.1021\n",
            "Epoch 47/50\n",
            "\u001b[1m55/55\u001b[0m \u001b[32m━━━━━━━━━━━━━━━━━━━━\u001b[0m\u001b[37m\u001b[0m \u001b[1m0s\u001b[0m 5ms/step - accuracy: 0.9685 - loss: 0.0959 - val_accuracy: 0.9477 - val_loss: 0.1640\n",
            "Epoch 48/50\n",
            "\u001b[1m55/55\u001b[0m \u001b[32m━━━━━━━━━━━━━━━━━━━━\u001b[0m\u001b[37m\u001b[0m \u001b[1m0s\u001b[0m 5ms/step - accuracy: 0.9660 - loss: 0.1116 - val_accuracy: 0.9455 - val_loss: 0.1318\n",
            "Epoch 49/50\n",
            "\u001b[1m55/55\u001b[0m \u001b[32m━━━━━━━━━━━━━━━━━━━━\u001b[0m\u001b[37m\u001b[0m \u001b[1m0s\u001b[0m 5ms/step - accuracy: 0.9735 - loss: 0.0711 - val_accuracy: 0.9364 - val_loss: 0.1466\n",
            "Epoch 50/50\n",
            "\u001b[1m55/55\u001b[0m \u001b[32m━━━━━━━━━━━━━━━━━━━━\u001b[0m\u001b[37m\u001b[0m \u001b[1m0s\u001b[0m 5ms/step - accuracy: 0.9605 - loss: 0.0915 - val_accuracy: 0.9409 - val_loss: 0.1901\n"
          ]
        },
        {
          "output_type": "execute_result",
          "data": {
            "text/plain": [
              "<keras.src.callbacks.history.History at 0x791fd0483dd0>"
            ]
          },
          "metadata": {},
          "execution_count": 2
        }
      ]
    },
    {
      "cell_type": "code",
      "source": [
        "import matplotlib.pyplot as plt\n",
        "import cv2\n",
        "plt.imshow(cv2.cvtColor(cv2.imread(\"/content/example rice.png\"), cv2.COLOR_BGR2RGB)); plt.axis('off'); plt.show()\n"
      ],
      "metadata": {
        "colab": {
          "base_uri": "https://localhost:8080/",
          "height": 87
        },
        "id": "H6JPyhJ96BOy",
        "outputId": "99b70b33-231c-42a8-ced8-dbd3049760b4"
      },
      "execution_count": 6,
      "outputs": [
        {
          "output_type": "display_data",
          "data": {
            "text/plain": [
              "<Figure size 640x480 with 1 Axes>"
            ],
            "image/png": "[encoded data removed]"
          },
          "metadata": {}
        }
      ]
    },
    {
      "cell_type": "code",
      "source": [
        "# STEP 5: Get User Input\n",
        "N = int(input(\"Ratio of Nitrogen in Soil: \"))\n",
        "P = int(input(\"Ratio of Phosphorous in Soil: \"))\n",
        "K = int(input(\"Ratio of Potassium in Soil: \"))\n",
        "temperature = float(input(\"Average Temperature in Celsius: \"))\n",
        "humidity = int(input(\"Average Relative Humidity in %: \"))\n",
        "ph = float(input(\"pH value of soil: \"))\n",
        "rainfall = int(input(\"Average Rainfall in mm: \"))\n",
        "\n",
        "# STEP 6: Prepare input for prediction\n",
        "User_Val = pd.DataFrame({\n",
        "    'N': [N],\n",
        "    'P': [P],\n",
        "    'K': [K],\n",
        "    'temperature': [temperature],\n",
        "    'humidity': [humidity],\n",
        "    'ph': [ph],\n",
        "    'rainfall': [rainfall]\n",
        "})\n",
        "\n",
        "# STEP 7: Predict and Output\n",
        "y_predict = ANN.predict(User_Val)\n",
        "predicted_index = np.argmax(y_predict[0])\n",
        "predicted_crop = le.inverse_transform([predicted_index])[0]\n",
        "\n",
        "print(f\"\\n Recommended Crop: {predicted_crop}\")\n"
      ],
      "metadata": {
        "id": "cSufZYfYgnUN",
        "colab": {
          "base_uri": "https://localhost:8080/"
        },
        "outputId": "0258d004-56a5-47bd-d298-8fc5128ab322"
      },
      "execution_count": 7,
      "outputs": [
        {
          "output_type": "stream",
          "name": "stdout",
          "text": [
            "Ratio of Nitrogen in Soil: 90\n",
            "Ratio of Phosphorous in Soil: 42\n",
            "Ratio of Potassium in Soil: 43\n",
            "Average Temperature in Celsius: 21\n",
            "Average Relative Humidity in %: 82\n",
            "pH value of soil: 6.5\n",
            "Average Rainfall in mm: 202\n",
            "\u001b[1m1/1\u001b[0m \u001b[32m━━━━━━━━━━━━━━━━━━━━\u001b[0m\u001b[37m\u001b[0m \u001b[1m0s\u001b[0m 166ms/step\n",
            "\n",
            " Recommended Crop: rice\n"
          ]
        }
      ]
    }
  ]
}